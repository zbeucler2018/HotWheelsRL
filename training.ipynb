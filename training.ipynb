{
 "cells": [
  {
   "attachments": {},
   "cell_type": "markdown",
   "metadata": {},
   "source": [
    "### Clone repo"
   ]
  },
  {
   "cell_type": "code",
   "execution_count": null,
   "metadata": {},
   "outputs": [],
   "source": [
    "# Clone repo\n",
    "!git clone https://www.github.com/zbeucler2018/HotWheelsRL.git\n",
    "%cd HotWheelsRL/"
   ]
  },
  {
   "attachments": {},
   "cell_type": "markdown",
   "metadata": {},
   "source": [
    "### Install pip libraries"
   ]
  },
  {
   "cell_type": "code",
   "execution_count": null,
   "metadata": {},
   "outputs": [],
   "source": [
    "#!python -m pip -v install git+https://github.com/DLR-RM/stable-baselines3@feat/gymnasium-support\n",
    "#!python -m pip -v install git+https://github.com/Stable-Baselines-Team/stable-baselines3-contrib@feat/gymnasium-support\n",
    "#!python -m pip -v install git+https://github.com/Farama-Foundation/Gymnasium --upgrade\n",
    "#!python -m pip install moviepy\n",
    "#!python -m pip install imageio\n",
    "\n",
    "!python -m pip install pip --upgrade\n",
    "!python -m pip install \"stable_baselines3[extra]>=2.0.0a9\" # for gymnasium support\n",
    "!python -m pip -v install git+https://github.com/Farama-Foundation/stable-retro.git\n",
    "!python -m pip install wandb\n",
    "!python -m pip install tensorboard"
   ]
  },
  {
   "attachments": {},
   "cell_type": "markdown",
   "metadata": {},
   "source": [
    "### import rom"
   ]
  },
  {
   "cell_type": "code",
   "execution_count": null,
   "metadata": {},
   "outputs": [],
   "source": [
    "from google.colab import files\n",
    "\n",
    "\n",
    "# Download rom from user\n",
    "uploaded_file = files.upload()\n",
    "for filename, data in uploaded_file.items():\n",
    "    with open(f\"rom/{filename}\", 'wb') as f:\n",
    "        f.write(data)"
   ]
  },
  {
   "cell_type": "code",
   "execution_count": null,
   "metadata": {},
   "outputs": [],
   "source": [
    "import os\n",
    "\n",
    "source_path = os.path.join(os.getcwd(), 'rom')\n",
    "link_name = 'HotWheelsStuntTrackChallenge-gba'\n",
    "lib_path = '/usr/local/lib/python3.10/dist-packages/retro/data/stable'\n",
    "\n",
    "if not os.path.isdir(source_path):\n",
    "    print(f'{source_path} is not a valid directory.')\n",
    "    exit(1)\n",
    "\n",
    "if not os.path.isdir(lib_path):\n",
    "    print(f'{lib_path} is not a valid directory.')\n",
    "    exit(1)\n",
    "\n",
    "dest_path = os.path.join(lib_path, link_name)\n",
    "\n",
    "if os.path.islink(dest_path):\n",
    "    print(f'Removing existing symlink: {dest_path}')\n",
    "    os.remove(dest_path)\n",
    "\n",
    "os.symlink(source_path, dest_path)\n",
    "print(f'Created symlink: {dest_path} -> {source_path}')"
   ]
  },
  {
   "cell_type": "code",
   "execution_count": null,
   "metadata": {},
   "outputs": [],
   "source": [
    "!python -m retro.import /content/HotWheelsRL/rom"
   ]
  },
  {
   "attachments": {},
   "cell_type": "markdown",
   "metadata": {},
   "source": [
    "### Make env"
   ]
  },
  {
   "cell_type": "code",
   "execution_count": 5,
   "metadata": {},
   "outputs": [],
   "source": [
    "import retro\n",
    "from HotWheelsEnv import HotWheelsEnvFactory, CustomEnv, GameStates\n",
    "\n",
    "env_config = CustomEnv(\n",
    "    game_state=GameStates.SINGLE,\n",
    "    action_space=retro.Actions.DISCRETE,\n",
    "    grayscale=False,\n",
    "    framestack=False,\n",
    "    encourage_tricks=True\n",
    ")\n",
    "\n",
    "\n",
    "env = HotWheelsEnvFactory.make_env(env_config)\n",
    "\n",
    "from stable_baselines3.common.env_checker import check_env\n",
    "\n",
    "try:\n",
    "    check_env(env)\n",
    "except Exception as err:\n",
    "    env.close()\n",
    "    raise err"
   ]
  },
  {
   "attachments": {},
   "cell_type": "markdown",
   "metadata": {},
   "source": [
    "### Log into WandB"
   ]
  },
  {
   "cell_type": "code",
   "execution_count": null,
   "metadata": {},
   "outputs": [],
   "source": [
    "!wandb login #<API_KEY_HERE>"
   ]
  },
  {
   "attachments": {},
   "cell_type": "markdown",
   "metadata": {},
   "source": [
    "### Train agent"
   ]
  },
  {
   "cell_type": "code",
   "execution_count": null,
   "metadata": {},
   "outputs": [],
   "source": [
    "from trainer import Trainer, ModelConfig, WandbConfig, ValidAlgos\n",
    "\n",
    "model_config = ModelConfig(\n",
    "    policy=\"CnnPolicy\",\n",
    "    total_training_timesteps=1_000_000,\n",
    "    max_episode_steps=25_000\n",
    ")\n",
    "\n",
    "wandb_config = WandbConfig(\n",
    "    model_save_freq=25_000,\n",
    "    hot_wheels_env_type=env_config\n",
    ")\n",
    "\n",
    "\n",
    "Trainer.train(\n",
    "    env=env,\n",
    "    algo=ValidAlgos.PPO,\n",
    "    modelConfig=model_config,\n",
    "    wandbConfig=wandb_config\n",
    ")"
   ]
  },
  {
   "attachments": {},
   "cell_type": "markdown",
   "metadata": {},
   "source": [
    "### Run agent"
   ]
  },
  {
   "cell_type": "code",
   "execution_count": null,
   "metadata": {},
   "outputs": [],
   "source": [
    "from stable_baselines3 import A2C, DQN, PPO\n",
    "from gymnasium.wrappers import RecordVideo\n",
    "\n",
    "\n",
    "model_path = \"\"\n",
    "\n",
    "model = PPO.load(model_path)\n",
    "\n",
    "env = RecordVideo(\n",
    "    env=env, \n",
    "    video_folder=\"videos/\"\n",
    ")\n",
    "\n",
    "total_reward = 0\n",
    "observation, info = env.reset(seed=42)\n",
    "while True:\n",
    "    action, _ = model.predict(observation, deterministic=True)\n",
    "    observation, reward, terminated, truncated, info = env.step(action)\n",
    "\n",
    "    total_reward += reward\n",
    "    print(reward)\n",
    "\n",
    "    if terminated or truncated:\n",
    "        break"
   ]
  }
 ],
 "metadata": {
  "kernelspec": {
   "display_name": "Python 3",
   "language": "python",
   "name": "python3"
  },
  "language_info": {
   "codemirror_mode": {
    "name": "ipython",
    "version": 3
   },
   "file_extension": ".py",
   "mimetype": "text/x-python",
   "name": "python",
   "nbconvert_exporter": "python",
   "pygments_lexer": "ipython3",
   "version": "3.10.9"
  },
  "orig_nbformat": 4
 },
 "nbformat": 4,
 "nbformat_minor": 2
}
