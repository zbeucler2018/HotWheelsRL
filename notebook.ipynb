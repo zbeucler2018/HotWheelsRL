{
 "cells": [
  {
   "attachments": {},
   "cell_type": "markdown",
   "metadata": {},
   "source": [
    "### Clone repo"
   ]
  },
  {
   "cell_type": "code",
   "execution_count": null,
   "metadata": {},
   "outputs": [],
   "source": [
    "# Clone repo\n",
    "!git clone https://www.github.com/zbeucler2018/HotWheelsRL.git\n",
    "%cd HotWheelsRL/"
   ]
  },
  {
   "attachments": {},
   "cell_type": "markdown",
   "metadata": {},
   "source": [
    "### Install pip libraries"
   ]
  },
  {
   "cell_type": "code",
   "execution_count": null,
   "metadata": {},
   "outputs": [],
   "source": [
    "from google.colab import drive\n",
    "drive.mount('/content/gdrive')\n",
    "\n",
    "!python -m pip install pip --upgrade\n",
    "!python -m pip install /content/gdrive/MyDrive/HotWheelsRL/stable_retro-0.9.0-cp310-cp310-linux_x86_64.whl\n",
    "!python -m pip install stable_baselines3\n",
    "!python -m pip install wandb\n",
    "!python -m pip install tensorboard"
   ]
  },
  {
   "attachments": {},
   "cell_type": "markdown",
   "metadata": {},
   "source": [
    "### import rom"
   ]
  },
  {
   "cell_type": "code",
   "execution_count": null,
   "metadata": {},
   "outputs": [],
   "source": [
    "import os\n",
    "from google.colab import files\n",
    "\n",
    "# copy rom from drive\n",
    "!cp /content/gdrive/MyDrive/HotWheelsRL/rom.gba /content/HotWheelsRL/HotWheelsStuntTrackChallenge-gba/rom.gba\n",
    "\n",
    "link_name = 'HotWheelsStuntTrackChallenge-gba'\n",
    "source_path = os.path.join(os.getcwd(), link_name)\n",
    "lib_path = '/usr/local/lib/python3.10/dist-packages/retro/data/stable'\n",
    "\n",
    "if not os.path.isdir(source_path):\n",
    "    print(f'{source_path} is not a valid directory.')\n",
    "    exit(1)\n",
    "\n",
    "if not os.path.isdir(lib_path):\n",
    "    print(f'{lib_path} is not a valid directory.')\n",
    "    exit(1)\n",
    "\n",
    "dest_path = os.path.join(lib_path, link_name)\n",
    "\n",
    "if os.path.islink(dest_path):\n",
    "    print(f'Removing existing symlink: {dest_path}')\n",
    "    os.remove(dest_path)\n",
    "\n",
    "os.symlink(source_path, dest_path)\n",
    "print(f'Created symlink: {dest_path} -> {source_path}')\n",
    "\n",
    "!python -m retro.import /content/HotWheelsRL/HotWheelsStuntTrackChallenge-gba"
   ]
  },
  {
   "attachments": {},
   "cell_type": "markdown",
   "metadata": {},
   "source": [
    "### Make env"
   ]
  },
  {
   "cell_type": "code",
   "execution_count": 5,
   "metadata": {},
   "outputs": [],
   "source": [
    "import retro\n",
    "from HotWheelsEnv import make_env, CustomEnv, GameStates\n",
    "\n",
    "env_config = CustomEnv(\n",
    "    game_state=GameStates.SINGLE,\n",
    "    action_space=retro.Actions.DISCRETE,\n",
    "    grayscale=False,\n",
    "    framestack=False,\n",
    "    encourage_tricks=True\n",
    ")\n",
    "\n",
    "\n",
    "env = make_env(env_config)"
   ]
  },
  {
   "attachments": {},
   "cell_type": "markdown",
   "metadata": {},
   "source": [
    "### Log into WandB"
   ]
  },
  {
   "cell_type": "code",
   "execution_count": null,
   "metadata": {},
   "outputs": [],
   "source": [
    "!wandb login #<API_KEY_HERE>"
   ]
  },
  {
   "attachments": {},
   "cell_type": "markdown",
   "metadata": {},
   "source": [
    "### Train agent"
   ]
  },
  {
   "cell_type": "code",
   "execution_count": null,
   "metadata": {},
   "outputs": [],
   "source": [
    "from trainer import Trainer, ModelConfig, WandbConfig, ValidAlgos\n",
    "\n",
    "model_config = ModelConfig(\n",
    "    policy=\"CnnPolicy\",\n",
    "    total_training_timesteps=1_000_000,\n",
    "    max_episode_steps=25_000\n",
    ")\n",
    "\n",
    "wandb_config = WandbConfig(\n",
    "    model_save_freq=25_000,\n",
    "    hot_wheels_env_type=env_config\n",
    ")\n",
    "\n",
    "\n",
    "Trainer.train(\n",
    "    env=env,\n",
    "    algo=ValidAlgos.PPO,\n",
    "    modelConfig=model_config,\n",
    "    wandbConfig=wandb_config\n",
    ")"
   ]
  },
  {
   "attachments": {},
   "cell_type": "markdown",
   "metadata": {},
   "source": [
    "### Run agent"
   ]
  },
  {
   "cell_type": "code",
   "execution_count": null,
   "metadata": {},
   "outputs": [],
   "source": [
    "from stable_baselines3 import A2C, DQN, PPO\n",
    "from gymnasium.wrappers import RecordVideo\n",
    "\n",
    "import os\n",
    "\n",
    "def get_filename(directory_path: str, extension: str):\n",
    "    for filename in os.listdir(directory_path):\n",
    "        if filename.endswith(extension):\n",
    "            return filename\n",
    "    return None\n",
    "\n",
    "def find_file_with_extension(directory, extension):\n",
    "    for root, dirs, files in os.walk(directory):\n",
    "        for file in files:\n",
    "            if file.endswith(extension):\n",
    "                return os.path.abspath(os.path.join(root, file))\n",
    "    return None\n",
    "\n",
    "model_path = find_file_with_extension(\"models/\", \".zip\")\n",
    "\n",
    "model = PPO.load(model_path)\n",
    "\n",
    "env = make_env(env_config)\n",
    "\n",
    "env = RecordVideo(\n",
    "    env=env, \n",
    "    video_folder=\"videos/\"\n",
    ")\n",
    "\n",
    "total_reward = 0\n",
    "observation, info = env.reset(seed=42)\n",
    "while True:\n",
    "    action, _ = model.predict(observation, deterministic=True)\n",
    "    observation, reward, terminated, truncated, info = env.step(action)\n",
    "\n",
    "    total_reward += reward\n",
    "    print(reward)\n",
    "\n",
    "    if terminated or truncated:\n",
    "        break\n",
    "\n",
    "\n",
    "from google.colab import files\n",
    "video_path = get_filename(\"videos/\", \".mp4\")\n",
    "files.download(f\"{video_path}\")"
   ]
  }
 ],
 "metadata": {
  "kernelspec": {
   "display_name": "Python 3",
   "language": "python",
   "name": "python3"
  },
  "language_info": {
   "codemirror_mode": {
    "name": "ipython",
    "version": 3
   },
   "file_extension": ".py",
   "mimetype": "text/x-python",
   "name": "python",
   "nbconvert_exporter": "python",
   "pygments_lexer": "ipython3",
   "version": "3.10.9"
  },
  "orig_nbformat": 4
 },
 "nbformat": 4,
 "nbformat_minor": 2
}
