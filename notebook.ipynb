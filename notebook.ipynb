{
 "cells": [
  {
   "attachments": {},
   "cell_type": "markdown",
   "metadata": {},
   "source": [
    "### Clone repo"
   ]
  },
  {
   "cell_type": "code",
   "execution_count": null,
   "metadata": {},
   "outputs": [],
   "source": [
    "# Clone repo\n",
    "!git clone https://www.github.com/zbeucler2018/HotWheelsRL.git\n",
    "%cd HotWheelsRL/"
   ]
  },
  {
   "attachments": {},
   "cell_type": "markdown",
   "metadata": {},
   "source": [
    "### Install required libraries"
   ]
  },
  {
   "cell_type": "code",
   "execution_count": null,
   "metadata": {},
   "outputs": [],
   "source": [
    "!python -m pip install pip --upgrade\n",
    "!python -m pip install stable_baselines3\n",
    "!python -m pip install wandb\n",
    "!python -m pip install tensorboard\n",
    "!python -m pip install moviepy\n",
    "!sudo apt-get update -y\n",
    "!sudo apt-get install libzip5 -y"
   ]
  },
  {
   "attachments": {},
   "cell_type": "markdown",
   "metadata": {},
   "source": [
    "### import rom"
   ]
  },
  {
   "cell_type": "code",
   "execution_count": null,
   "metadata": {},
   "outputs": [],
   "source": [
    "import utils\n",
    "\n",
    "if utils.in_colab():\n",
    "    from google.colab import drive\n",
    "    drive.mount('/content/gdrive')\n",
    "    # install whl from drive\n",
    "    !python -m pip install /content/gdrive/MyDrive/HotWheelsRL/stable_retro-0.9.0-cp310-cp310-linux_x86_64.whl\n",
    "    # copy rom from drive\n",
    "    !cp /content/gdrive/MyDrive/HotWheelsRL/rom.gba /content/HotWheelsRL/HotWheelsStuntTrackChallenge-gba/rom.gba\n",
    "\n",
    "utils.install_rom('HotWheelsStuntTrackChallenge-gba')    "
   ]
  },
  {
   "attachments": {},
   "cell_type": "markdown",
   "metadata": {},
   "source": [
    "### Train agent"
   ]
  },
  {
   "cell_type": "code",
   "execution_count": null,
   "metadata": {},
   "outputs": [],
   "source": [
    "!python train.py --algorithm PPO --total_training_steps 500 --wandb_api_key "
   ]
  },
  {
   "cell_type": "markdown",
   "metadata": {},
   "source": [
    "### Resume training"
   ]
  },
  {
   "cell_type": "code",
   "execution_count": null,
   "metadata": {},
   "outputs": [],
   "source": [
    "!python resume.py --algorithm PPO --total_training_steps 1_000_000 --framestack --run_id ihe7j00q --model_save_path ./model.zip --wandb_api_key"
   ]
  },
  {
   "cell_type": "markdown",
   "metadata": {},
   "source": [
    "### Run trained agent"
   ]
  },
  {
   "cell_type": "code",
   "execution_count": null,
   "metadata": {},
   "outputs": [],
   "source": [
    "!python run.py --algorithm PPO --model_save_path ./model.zip"
   ]
  }
 ],
 "metadata": {
  "kernelspec": {
   "display_name": "Python 3",
   "language": "python",
   "name": "python3"
  },
  "language_info": {
   "codemirror_mode": {
    "name": "ipython",
    "version": 3
   },
   "file_extension": ".py",
   "mimetype": "text/x-python",
   "name": "python",
   "nbconvert_exporter": "python",
   "pygments_lexer": "ipython3",
   "version": "3.10.12"
  },
  "orig_nbformat": 4
 },
 "nbformat": 4,
 "nbformat_minor": 2
}
