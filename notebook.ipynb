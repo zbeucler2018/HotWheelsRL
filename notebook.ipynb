{
 "cells": [
  {
   "attachments": {},
   "cell_type": "markdown",
   "metadata": {},
   "source": [
    "### Clone repo"
   ]
  },
  {
   "cell_type": "code",
   "execution_count": null,
   "metadata": {},
   "outputs": [],
   "source": [
    "# Clone repo\n",
    "!git clone https://www.github.com/zbeucler2018/HotWheelsRL.git\n",
    "%cd HotWheelsRL/"
   ]
  },
  {
   "attachments": {},
   "cell_type": "markdown",
   "metadata": {},
   "source": [
    "### Install pip libraries"
   ]
  },
  {
   "cell_type": "code",
   "execution_count": null,
   "metadata": {},
   "outputs": [],
   "source": [
    "from google.colab import drive\n",
    "drive.mount('/content/gdrive')\n",
    "\n",
    "!python -m pip install pip --upgrade\n",
    "!python -m pip install /content/gdrive/MyDrive/HotWheelsRL/stable_retro-0.9.0-cp310-cp310-linux_x86_64.whl\n",
    "!python -m pip install stable_baselines3\n",
    "!python -m pip install wandb\n",
    "!python -m pip install tensorboard\n",
    "!python -m pip install moviepy"
   ]
  },
  {
   "attachments": {},
   "cell_type": "markdown",
   "metadata": {},
   "source": [
    "### import rom"
   ]
  },
  {
   "cell_type": "code",
   "execution_count": null,
   "metadata": {},
   "outputs": [],
   "source": [
    "import os\n",
    "from google.colab import files\n",
    "\n",
    "# copy rom from drive\n",
    "!cp /content/gdrive/MyDrive/HotWheelsRL/rom.gba /content/HotWheelsRL/HotWheelsStuntTrackChallenge-gba/rom.gba\n",
    "\n",
    "link_name = 'HotWheelsStuntTrackChallenge-gba'\n",
    "source_path = os.path.join(os.getcwd(), link_name)\n",
    "lib_path = '/usr/local/lib/python3.10/dist-packages/retro/data/stable'\n",
    "\n",
    "if not os.path.isdir(source_path):\n",
    "    print(f'{source_path} is not a valid directory.')\n",
    "    exit(1)\n",
    "\n",
    "if not os.path.isdir(lib_path):\n",
    "    print(f'{lib_path} is not a valid directory.')\n",
    "    exit(1)\n",
    "\n",
    "dest_path = os.path.join(lib_path, link_name)\n",
    "\n",
    "if os.path.islink(dest_path):\n",
    "    print(f'Removing existing symlink: {dest_path}')\n",
    "    os.remove(dest_path)\n",
    "\n",
    "os.symlink(source_path, dest_path)\n",
    "print(f'Created symlink: {dest_path} -> {source_path}')\n",
    "\n",
    "!python -m retro.import /content/HotWheelsRL/HotWheelsStuntTrackChallenge-gba"
   ]
  },
  {
   "attachments": {},
   "cell_type": "markdown",
   "metadata": {},
   "source": [
    "### Train agent"
   ]
  },
  {
   "cell_type": "code",
   "execution_count": null,
   "metadata": {},
   "outputs": [],
   "source": [
    "!python train.py --algorithm PPO --total_training_steps 500 --wandb_api_key "
   ]
  }
 ],
 "metadata": {
  "kernelspec": {
   "display_name": "Python 3",
   "language": "python",
   "name": "python3"
  },
  "language_info": {
   "codemirror_mode": {
    "name": "ipython",
    "version": 3
   },
   "file_extension": ".py",
   "mimetype": "text/x-python",
   "name": "python",
   "nbconvert_exporter": "python",
   "pygments_lexer": "ipython3",
   "version": "3.10.12"
  },
  "orig_nbformat": 4
 },
 "nbformat": 4,
 "nbformat_minor": 2
}
