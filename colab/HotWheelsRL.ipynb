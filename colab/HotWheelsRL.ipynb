{
 "cells": [
  {
   "attachments": {},
   "cell_type": "markdown",
   "metadata": {},
   "source": [
    "### Clone repo"
   ]
  },
  {
   "cell_type": "code",
   "execution_count": null,
   "metadata": {},
   "outputs": [],
   "source": [
    "# Clone repo\n",
    "!git clone https://www.github.com/zbeucler2018/HotWheelsRL.git\n",
    "%cd HotWheelsRL/"
   ]
  },
  {
   "attachments": {},
   "cell_type": "markdown",
   "metadata": {},
   "source": [
    "### Install pip libraries"
   ]
  },
  {
   "cell_type": "code",
   "execution_count": null,
   "metadata": {},
   "outputs": [],
   "source": [
    "# install libraries\n",
    "!python -m pip install pip --upgrade\n",
    "!python -m pip -v install git+https://github.com/DLR-RM/stable-baselines3@feat/gymnasium-support\n",
    "!python -m pip -v install git+https://github.com/Stable-Baselines-Team/stable-baselines3-contrib@feat/gymnasium-support\n",
    "!python -m pip -v install git+https://github.com/MatPoliquin/stable-retro.git\n",
    "!python -m pip -v install git+https://github.com/Farama-Foundation/Gymnasium --upgrade\n",
    "!python -m pip install moviepy\n",
    "!python -m pip install wandb\n",
    "!python -m pip install tensorboard\n",
    "!python -m pip install imageio"
   ]
  },
  {
   "attachments": {},
   "cell_type": "markdown",
   "metadata": {},
   "source": [
    "### import rom"
   ]
  },
  {
   "cell_type": "code",
   "execution_count": null,
   "metadata": {},
   "outputs": [],
   "source": [
    "# Download rom from user\n",
    "from google.colab import files\n",
    "uploaded_file = files.upload()\n",
    "for filename, data in uploaded_file.items():\n",
    "    with open(f\"rom/{filename}\", 'wb') as f:\n",
    "        f.write(data)"
   ]
  },
  {
   "cell_type": "code",
   "execution_count": null,
   "metadata": {},
   "outputs": [],
   "source": [
    "import os\n",
    "\n",
    "source_path = os.path.join(os.getcwd(), 'rom')\n",
    "link_name = 'HotWheelsStuntTrackChallenge-gba'\n",
    "lib_path = '/usr/local/lib/python3.8/site-packages/retro/data/stable'\n",
    "#lib_path=\"env/lib/python3.8/site-packages/retro/data/stable\"\n",
    "\n",
    "if not os.path.isdir(source_path):\n",
    "    print(f'{source_path} is not a valid directory.')\n",
    "    exit(1)\n",
    "\n",
    "if not os.path.isdir(lib_path):\n",
    "    print(f'{lib_path} is not a valid directory.')\n",
    "    exit(1)\n",
    "\n",
    "dest_path = os.path.join(lib_path, link_name)\n",
    "\n",
    "if os.path.islink(dest_path):\n",
    "    print(f'Removing existing symlink: {dest_path}')\n",
    "    os.remove(dest_path)\n",
    "\n",
    "os.symlink(source_path, dest_path)\n",
    "print(f'Created symlink: {dest_path} -> {source_path}')"
   ]
  },
  {
   "cell_type": "code",
   "execution_count": null,
   "metadata": {},
   "outputs": [],
   "source": [
    "!python -m retro.import rom/"
   ]
  },
  {
   "attachments": {},
   "cell_type": "markdown",
   "metadata": {},
   "source": [
    "### Train agent"
   ]
  },
  {
   "attachments": {},
   "cell_type": "markdown",
   "metadata": {},
   "source": [
    "#### wandb login"
   ]
  },
  {
   "cell_type": "code",
   "execution_count": null,
   "metadata": {},
   "outputs": [],
   "source": [
    "!python train_agent.py --algo=ppo --total_timesteps=100_000 --learning_rate=0.000001"
   ]
  },
  {
   "attachments": {},
   "cell_type": "markdown",
   "metadata": {},
   "source": [
    "### Run agent"
   ]
  },
  {
   "cell_type": "code",
   "execution_count": null,
   "metadata": {},
   "outputs": [],
   "source": [
    "!python run_agent.py --algo=ppo --filename=ppo.zip --episodes=10 --record_gif"
   ]
  }
 ],
 "metadata": {
  "language_info": {
   "name": "python"
  },
  "orig_nbformat": 4
 },
 "nbformat": 4,
 "nbformat_minor": 2
}
