{
 "cells": [
  {
   "cell_type": "code",
   "execution_count": null,
   "metadata": {},
   "outputs": [],
   "source": [
    "# Clone repo\n",
    "!git clone https://www.github.com/zbeucler2018/HotWheelsRL.git\n",
    "%cd HotWheels/"
   ]
  },
  {
   "cell_type": "code",
   "execution_count": null,
   "metadata": {},
   "outputs": [],
   "source": [
    "# install libraries\n",
    "!python3.8 -m pip install pip --upgrade\n",
    "!python3.8 -m pip -v install git+https://github.com/DLR-RM/stable-baselines3@feat/gymnasium-support\n",
    "!python3.8 -m pip -v install git+https://github.com/Stable-Baselines-Team/stable-baselines3-contrib@feat/gymnasium-support\n",
    "!python3.8 -m pip -v install git+https://github.com/MatPoliquin/stable-retro.git\n",
    "!python3.8 -m pip -v install git+https://github.com/Farama-Foundation/Gymnasium --upgrade\n",
    "!python3.8 -m pip install moviepy\n",
    "!python3.8 -m pip install wandb\n",
    "!python3.8 -m pip install tensorboard\n",
    "!python3.8 -m pip install imageio"
   ]
  },
  {
   "cell_type": "code",
   "execution_count": null,
   "metadata": {},
   "outputs": [],
   "source": [
    "# import rom\n",
    "\n",
    "from google.colab import files\n",
    "uploaded_file = files.upload()\n",
    "for filename, data in uploaded_file.items():\n",
    "    with open(filename, 'wb') as f:\n",
    "        f.write(data)\n"
   ]
  }
 ],
 "metadata": {
  "language_info": {
   "name": "python"
  },
  "orig_nbformat": 4
 },
 "nbformat": 4,
 "nbformat_minor": 2
}
