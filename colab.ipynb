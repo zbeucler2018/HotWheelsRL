{
 "cells": [
  {
   "attachments": {},
   "cell_type": "markdown",
   "metadata": {},
   "source": [
    "### Clone repo"
   ]
  },
  {
   "cell_type": "code",
   "execution_count": null,
   "metadata": {},
   "outputs": [],
   "source": [
    "# Clone repo\n",
    "!git clone https://www.github.com/zbeucler2018/HotWheelsRL.git\n",
    "%cd HotWheelsRL/"
   ]
  },
  {
   "attachments": {},
   "cell_type": "markdown",
   "metadata": {},
   "source": [
    "### Install required libraries"
   ]
  },
  {
   "cell_type": "code",
   "execution_count": null,
   "metadata": {},
   "outputs": [],
   "source": [
    "!python -m pip install pip --upgrade\n",
    "!python -m pip install stable_baselines3\n",
    "!python -m pip install wandb\n",
    "!python -m pip install tensorboard\n",
    "!python -m pip install moviepy\n",
    "!python -m pip install tensorrt\n",
    "!sudo apt-get update -y\n",
    "!sudo apt-get install libzip4 -y\n",
    "\n",
    "from google.colab import drive\n",
    "\n",
    "drive.mount(\"/content/gdrive\")\n",
    "# install whl from drive\n",
    "!python -m pip install /content/gdrive/MyDrive/HotWheelsRL/stable_retro-0.9.1-cp310-cp310-linux_x86_64.colab.whl\n",
    "# copy rom from drive\n",
    "!cp /content/gdrive/MyDrive/HotWheelsRL/rom.gba /content/HotWheelsRL/HotWheelsStuntTrackChallenge-gba/rom.gba"
   ]
  },
  {
   "attachments": {},
   "cell_type": "markdown",
   "metadata": {},
   "source": [
    "### Import rom"
   ]
  },
  {
   "cell_type": "code",
   "execution_count": null,
   "metadata": {},
   "outputs": [],
   "source": [
    "import utils\n",
    "\n",
    "utils.install_rom(\"HotWheelsStuntTrackChallenge-gba\")"
   ]
  },
  {
   "cell_type": "markdown",
   "metadata": {},
   "source": [
    "### Sign into wandb"
   ]
  },
  {
   "cell_type": "code",
   "execution_count": null,
   "metadata": {},
   "outputs": [],
   "source": [
    "!wandb login ########"
   ]
  },
  {
   "attachments": {},
   "cell_type": "markdown",
   "metadata": {},
   "source": [
    "### Train a new agent"
   ]
  },
  {
   "cell_type": "code",
   "execution_count": 5,
   "metadata": {},
   "outputs": [
    {
     "name": "stdout",
     "output_type": "stream",
     "text": [
      "------------\n",
      "{'total_training_steps': 10, 'resume': False, 'run_id': None, 'model_path': None, 'num_envs': 1, 'encourage_speed': False, 'encourage_tricks': False, 'crop_obs': False, 'minimap_obs': False, 'trim_obs': True}\n",
      "------------\n",
      "\u001b[34m\u001b[1mwandb\u001b[0m: Currently logged in as: \u001b[33mzbeucler\u001b[0m. Use \u001b[1m`wandb login --relogin`\u001b[0m to force relogin\n",
      "\u001b[34m\u001b[1mwandb\u001b[0m: wandb version 0.15.8 is available!  To upgrade, please run:\n",
      "\u001b[34m\u001b[1mwandb\u001b[0m:  $ pip install wandb --upgrade\n",
      "\u001b[34m\u001b[1mwandb\u001b[0m: Tracking run with wandb version 0.15.5\n",
      "\u001b[34m\u001b[1mwandb\u001b[0m: Run data is saved locally in \u001b[35m\u001b[1m/Users/zackbeucler/Desktop/HotWheelsRL/wandb/run-20230820_023127-i33uuby6\u001b[0m\n",
      "\u001b[34m\u001b[1mwandb\u001b[0m: Run \u001b[1m`wandb offline`\u001b[0m to turn off syncing.\n",
      "\u001b[34m\u001b[1mwandb\u001b[0m: Syncing run \u001b[33meager-water-121\u001b[0m\n",
      "\u001b[34m\u001b[1mwandb\u001b[0m: ⭐️ View project at \u001b[34m\u001b[4mhttps://wandb.ai/zbeucler/sb3-hotwheels\u001b[0m\n",
      "\u001b[34m\u001b[1mwandb\u001b[0m: 🚀 View run at \u001b[34m\u001b[4mhttps://wandb.ai/zbeucler/sb3-hotwheels/runs/i33uuby6\u001b[0m\n",
      "Using cpu device\n",
      "Logging to ./logs/PPO_5\n",
      "---------------------------------\n",
      "| rollout/           |          |\n",
      "|    ep_len_mean     | 102      |\n",
      "|    ep_rew_mean     | 3        |\n",
      "| time/              |          |\n",
      "|    fps             | 328      |\n",
      "|    iterations      | 1        |\n",
      "|    time_elapsed    | 0        |\n",
      "|    total_timesteps | 128      |\n",
      "---------------------------------\n",
      "\u001b[34m\u001b[1mwandb\u001b[0m: Waiting for W&B process to finish... \u001b[32m(success).\u001b[0m\n",
      "\u001b[34m\u001b[1mwandb\u001b[0m: \n",
      "\u001b[34m\u001b[1mwandb\u001b[0m: Run history:\n",
      "\u001b[34m\u001b[1mwandb\u001b[0m:         global_step ▁\n",
      "\u001b[34m\u001b[1mwandb\u001b[0m: rollout/ep_len_mean ▁\n",
      "\u001b[34m\u001b[1mwandb\u001b[0m: rollout/ep_rew_mean ▁\n",
      "\u001b[34m\u001b[1mwandb\u001b[0m:            time/fps ▁\n",
      "\u001b[34m\u001b[1mwandb\u001b[0m: \n",
      "\u001b[34m\u001b[1mwandb\u001b[0m: Run summary:\n",
      "\u001b[34m\u001b[1mwandb\u001b[0m:         global_step 128\n",
      "\u001b[34m\u001b[1mwandb\u001b[0m: rollout/ep_len_mean 102.0\n",
      "\u001b[34m\u001b[1mwandb\u001b[0m: rollout/ep_rew_mean 3.0\n",
      "\u001b[34m\u001b[1mwandb\u001b[0m:            time/fps 328.0\n",
      "\u001b[34m\u001b[1mwandb\u001b[0m: \n",
      "\u001b[34m\u001b[1mwandb\u001b[0m: 🚀 View run \u001b[33meager-water-121\u001b[0m at: \u001b[34m\u001b[4mhttps://wandb.ai/zbeucler/sb3-hotwheels/runs/i33uuby6\u001b[0m\n",
      "\u001b[34m\u001b[1mwandb\u001b[0m: Synced 5 W&B file(s), 0 media file(s), 0 artifact file(s) and 2 other file(s)\n",
      "\u001b[34m\u001b[1mwandb\u001b[0m: Find logs at: \u001b[35m\u001b[1m./wandb/run-20230820_023127-i33uuby6/logs\u001b[0m\n"
     ]
    }
   ],
   "source": [
    "!python train.py --total_steps 10 --num_envs 1 --trim_obs"
   ]
  },
  {
   "cell_type": "markdown",
   "metadata": {},
   "source": [
    "### Resume previous training"
   ]
  },
  {
   "cell_type": "code",
   "execution_count": null,
   "metadata": {},
   "outputs": [],
   "source": [
    "!python train.py --resume --run_id \"####\" --model_path ./model.zip --num_envs 1 --minimap_obs --total_steps 999_999_999"
   ]
  },
  {
   "cell_type": "markdown",
   "metadata": {},
   "source": [
    "### Run trained agent"
   ]
  },
  {
   "cell_type": "code",
   "execution_count": null,
   "metadata": {},
   "outputs": [],
   "source": [
    "# TODO"
   ]
  }
 ],
 "metadata": {
  "kernelspec": {
   "display_name": "Python 3",
   "language": "python",
   "name": "python3"
  },
  "language_info": {
   "codemirror_mode": {
    "name": "ipython",
    "version": 3
   },
   "file_extension": ".py",
   "mimetype": "text/x-python",
   "name": "python",
   "nbconvert_exporter": "python",
   "pygments_lexer": "ipython3",
   "version": "3.10.12"
  },
  "orig_nbformat": 4
 },
 "nbformat": 4,
 "nbformat_minor": 2
}
